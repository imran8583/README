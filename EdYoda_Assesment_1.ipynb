{
  "nbformat": 4,
  "nbformat_minor": 0,
  "metadata": {
    "colab": {
      "provenance": [],
      "authorship_tag": "ABX9TyOffAyHJz1baeSV67vs0/Fv",
      "include_colab_link": true
    },
    "kernelspec": {
      "name": "python3",
      "display_name": "Python 3"
    },
    "language_info": {
      "name": "python"
    }
  },
  "cells": [
    {
      "cell_type": "markdown",
      "metadata": {
        "id": "view-in-github",
        "colab_type": "text"
      },
      "source": [
        "<a href=\"https://colab.research.google.com/github/imran8583/README/blob/main/EdYoda_Assesment_1.ipynb\" target=\"_parent\"><img src=\"https://colab.research.google.com/assets/colab-badge.svg\" alt=\"Open In Colab\"/></a>"
      ]
    },
    {
      "cell_type": "code",
      "execution_count": 1,
      "metadata": {
        "colab": {
          "base_uri": "https://localhost:8080/"
        },
        "id": "gBISs28VYzd5",
        "outputId": "85e02b79-836f-4302-c460-80f329606fe0"
      },
      "outputs": [
        {
          "output_type": "stream",
          "name": "stdout",
          "text": [
            "ludbA narmI\n"
          ]
        }
      ],
      "source": [
        "# Reverse String through a slice\n",
        "word = \"Imran Abdul\"\n",
        "mirror_dimensions = word[::-1]\n",
        "print(mirror_dimensions)\n"
      ]
    },
    {
      "cell_type": "code",
      "source": [
        "# Reverse String using a for loop\n",
        "word = \"Imran Abdul\"\n",
        "mirror_dimensions = ''\n",
        "\n",
        "for value in word:\n",
        "\tmirror_dimensions = value + mirror_dimensions\n",
        "print(mirror_dimensions)"
      ],
      "metadata": {
        "colab": {
          "base_uri": "https://localhost:8080/"
        },
        "id": "rjJH51pRZDZ7",
        "outputId": "dcbd27c6-3b72-4059-bcef-92f7ec762ae7"
      },
      "execution_count": 2,
      "outputs": [
        {
          "output_type": "stream",
          "name": "stdout",
          "text": [
            "ludbA narmI\n"
          ]
        }
      ]
    }
  ]
}